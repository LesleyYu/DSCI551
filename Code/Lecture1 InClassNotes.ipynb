{
 "cells": [
  {
   "cell_type": "markdown",
   "id": "86669a2f",
   "metadata": {},
   "source": [
    "#### List Comprehension"
   ]
  },
  {
   "cell_type": "code",
   "execution_count": 13,
   "id": "3f1f5adf-a468-4b26-8e6f-f9a4d8fb9373",
   "metadata": {},
   "outputs": [
    {
     "name": "stdout",
     "output_type": "stream",
     "text": [
      "[2, 4, 6]\n",
      "<generator object <genexpr> at 0x7ff5a89389e0>\n",
      "4\n"
     ]
    }
   ],
   "source": [
    "l = [1, 2, 3]\n",
    "l1 = [x * 2 for x in l]\n",
    "print(l1)\n",
    "\n",
    "g = (x * 2 for x in l)\n",
    "print(g)\n",
    "\n",
    "next(g)\n",
    "# next(g)\n",
    "print(next(g))"
   ]
  },
  {
   "cell_type": "markdown",
   "id": "eeb8760d",
   "metadata": {},
   "source": [
    "#### `map` function"
   ]
  },
  {
   "cell_type": "code",
   "execution_count": 9,
   "id": "a4e45440",
   "metadata": {},
   "outputs": [
    {
     "data": {
      "text/plain": [
       "2"
      ]
     },
     "execution_count": 9,
     "metadata": {},
     "output_type": "execute_result"
    }
   ],
   "source": [
    "def f(x): return 2 * x\n",
    "\n",
    "m = map(f, l)\n",
    "\n",
    "next(m)"
   ]
  },
  {
   "cell_type": "markdown",
   "id": "a089b07a",
   "metadata": {},
   "source": [
    "##### Define a New `mymap` function"
   ]
  },
  {
   "cell_type": "code",
   "execution_count": 10,
   "id": "04685d6b",
   "metadata": {},
   "outputs": [
    {
     "data": {
      "text/plain": [
       "<generator object mymap at 0x7ff5c8679eb0>"
      ]
     },
     "execution_count": 10,
     "metadata": {},
     "output_type": "execute_result"
    }
   ],
   "source": [
    "\n",
    "def mymap(f, l):\n",
    "    for x in l:\n",
    "        yield f(x)\n",
    "g = mymap(f, l)\n",
    "print(g)\n",
    "print(next(g))"
   ]
  },
  {
   "cell_type": "code",
   "execution_count": 15,
   "id": "33143250",
   "metadata": {},
   "outputs": [
    {
     "data": {
      "text/plain": [
       "[0, 2, 4, 6]"
      ]
     },
     "execution_count": 15,
     "metadata": {},
     "output_type": "execute_result"
    }
   ],
   "source": [
    "list(map(f, (x for x in range(4))))"
   ]
  },
  {
   "cell_type": "code",
   "execution_count": 16,
   "id": "e9f462e9",
   "metadata": {},
   "outputs": [
    {
     "data": {
      "text/plain": [
       "[1, 3]"
      ]
     },
     "execution_count": 16,
     "metadata": {},
     "output_type": "execute_result"
    }
   ],
   "source": [
    "list(filter(lambda x: x % 2 == 1, l))"
   ]
  },
  {
   "cell_type": "code",
   "execution_count": 17,
   "id": "21b334b8",
   "metadata": {},
   "outputs": [
    {
     "data": {
      "text/plain": [
       "6"
      ]
     },
     "execution_count": 17,
     "metadata": {},
     "output_type": "execute_result"
    }
   ],
   "source": [
    "s = 0\n",
    "for x in l:\n",
    "    s = s + x\n",
    "s"
   ]
  },
  {
   "cell_type": "code",
   "execution_count": 18,
   "id": "8cb34293",
   "metadata": {},
   "outputs": [
    {
     "data": {
      "text/plain": [
       "6"
      ]
     },
     "execution_count": 18,
     "metadata": {},
     "output_type": "execute_result"
    }
   ],
   "source": [
    "def f(U, x): return U + x\n",
    "U = 0\n",
    "for x in l:\n",
    "    U = f(U, x)\n",
    "U"
   ]
  },
  {
   "cell_type": "markdown",
   "id": "3ac87b7b",
   "metadata": {},
   "source": [
    "#### Python package `functools`"
   ]
  },
  {
   "cell_type": "code",
   "execution_count": 20,
   "id": "bbe7e101",
   "metadata": {},
   "outputs": [
    {
     "data": {
      "text/plain": [
       "6"
      ]
     },
     "execution_count": 20,
     "metadata": {},
     "output_type": "execute_result"
    }
   ],
   "source": [
    "import functools as ftl\n",
    "ftl.reduce(f, l)"
   ]
  },
  {
   "cell_type": "code",
   "execution_count": 21,
   "id": "d78abccf",
   "metadata": {},
   "outputs": [
    {
     "data": {
      "text/plain": [
       "6"
      ]
     },
     "execution_count": 21,
     "metadata": {},
     "output_type": "execute_result"
    }
   ],
   "source": [
    "def myReduce(f, l):\n",
    "    U = l[0]\n",
    "    for x in l[1:]:\n",
    "        U = f(U, x)\n",
    "    return U\n",
    "myReduce(f, l)"
   ]
  },
  {
   "cell_type": "code",
   "execution_count": 22,
   "id": "7e7a7598",
   "metadata": {},
   "outputs": [
    {
     "data": {
      "text/plain": [
       "7"
      ]
     },
     "execution_count": 22,
     "metadata": {},
     "output_type": "execute_result"
    }
   ],
   "source": [
    "def myReduce3(f, l, initValue):\n",
    "    U = initValue\n",
    "    for x in l:\n",
    "        U = f(U, x)\n",
    "    return U\n",
    "myReduce3(f, [2], 5)"
   ]
  },
  {
   "cell_type": "markdown",
   "id": "12e7dddd",
   "metadata": {},
   "source": [
    "## Python Spark"
   ]
  },
  {
   "cell_type": "code",
   "execution_count": null,
   "id": "ea601f9e",
   "metadata": {},
   "outputs": [],
   "source": [
    "l = [1, 2,3]\n",
    "\n",
    "# rdd = resillient distributed dataset\n",
    "\n",
    "data = sc.parallelize(l, 2)\n",
    "data.getNumPartitions()     # 2\n",
    "\n",
    "def printf(p):\n",
    "    print('partition: ', list(p))\n",
    "\n",
    "data.foreachPartition(printf)\n",
    "# partition: [1]\n",
    "# partition: [2, 3]\n",
    "\n",
    "list(map(lambda x: 2 * x, l))\n",
    "# [2, 4, 6]\n",
    "\n",
    "data.map(lambda x: 2 * x)\n",
    "# PythonRDD[3] at RDD at PythonRDD.scale:53\n",
    "data.map(lambda x: 2 * x).collect()\n",
    "# [2, 4, 6]\n",
    "data.map(lambda x: 2 * x).getNumPartitions()\n",
    "# 2\n",
    "\n",
    "data1 = data.map(lambda x: 2 * x)\n",
    "data1.foreachPartition(printf)\n",
    "# partition: [2]\n",
    "# partition: [4, 6]"
   ]
  },
  {
   "cell_type": "markdown",
   "id": "9dcdb2eb",
   "metadata": {},
   "source": [
    "#### Transformation\n",
    "Not Required Now"
   ]
  },
  {
   "cell_type": "code",
   "execution_count": null,
   "id": "542dec53",
   "metadata": {},
   "outputs": [],
   "source": [
    "list(map(lambda x: 2 * x, [1]))         # [2]\n",
    "\n",
    "list(map(lambda x: 2 * x, [2, 3]))      # [4, 6]\n",
    "\n",
    "data.sum()      # 6\n",
    "\n",
    "data.reduce(lambda U: U + x)         # 6\n",
    "\n",
    "# 1:50:40 "
   ]
  }
 ],
 "metadata": {
  "kernelspec": {
   "display_name": "Python 3 (ipykernel)",
   "language": "python",
   "name": "python3"
  },
  "language_info": {
   "codemirror_mode": {
    "name": "ipython",
    "version": 3
   },
   "file_extension": ".py",
   "mimetype": "text/x-python",
   "name": "python",
   "nbconvert_exporter": "python",
   "pygments_lexer": "ipython3",
   "version": "3.9.18"
  }
 },
 "nbformat": 4,
 "nbformat_minor": 5
}
