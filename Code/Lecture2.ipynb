{
 "cells": [
  {
   "cell_type": "markdown",
   "metadata": {},
   "source": [
    "### JSON in Python"
   ]
  },
  {
   "cell_type": "code",
   "execution_count": 19,
   "metadata": {},
   "outputs": [
    {
     "name": "stdout",
     "output_type": "stream",
     "text": [
      "{'name': 'john', 'age': 26}\n",
      "<class 'dict'>\n",
      "<class 'str'>\n",
      "[1, \"abc\"]\n"
     ]
    }
   ],
   "source": [
    "import json\n",
    "\n",
    "d = json.loads('{\"name\": \"john\", \"age\": 26}')\n",
    "print(d)\n",
    "\n",
    "# Python dictionary => JSON array\n",
    "f = json.dumps(d)\n",
    "print(type(d))\n",
    "print(type(f))\n",
    "\n",
    "# Python tuple => JSON array\n",
    "print(json.dumps((1, 'abc')))\n",
    "\n",
    "# Python list => JSON array\n",
    "json.dumps([1, 2])  # => '[1, 2]'"
   ]
  },
  {
   "cell_type": "markdown",
   "metadata": {},
   "source": [
    "##### Notes\n",
    "Python syntax => json syntax\n",
    "- None => null\n",
    "- True => true\n",
    "- 'abc' => \"abc\""
   ]
  },
  {
   "cell_type": "code",
   "execution_count": 21,
   "metadata": {},
   "outputs": [
    {
     "name": "stdout",
     "output_type": "stream",
     "text": [
      "{'name': 'john', 'age': 5}\n",
      "[25, 'abc']\n"
     ]
    }
   ],
   "source": [
    "# JSON document => Python object\n",
    "print(json.loads('{\"name\": \"john\", \"age\": 5}'))\n",
    "# => {u'age': 5, u'name': u'john'}\n",
    "# Note:'u'means\"unicode\"\n",
    "\n",
    "# JSON array => Python list\n",
    "print(json.loads('[25, \"abc\"]'))"
   ]
  },
  {
   "cell_type": "markdown",
   "metadata": {},
   "source": [
    "### serialization"
   ]
  },
  {
   "cell_type": "code",
   "execution_count": null,
   "metadata": {},
   "outputs": [],
   "source": [
    "data[\"firstName\"]"
   ]
  },
  {
   "cell_type": "markdown",
   "metadata": {},
   "source": []
  },
  {
   "cell_type": "code",
   "execution_count": 8,
   "metadata": {},
   "outputs": [
    {
     "name": "stdout",
     "output_type": "stream",
     "text": [
      "abc\n"
     ]
    }
   ],
   "source": [
    "y = ('abc', 25)\n",
    "print(y[0])\n",
    "\n",
    "# print(y.append(True))   #AttributeError: 'tuple' object has no attribute 'append'"
   ]
  },
  {
   "cell_type": "code",
   "execution_count": null,
   "metadata": {},
   "outputs": [],
   "source": []
  },
  {
   "cell_type": "code",
   "execution_count": null,
   "metadata": {},
   "outputs": [],
   "source": []
  }
 ],
 "metadata": {
  "kernelspec": {
   "display_name": "DSCI551",
   "language": "python",
   "name": "python3"
  },
  "language_info": {
   "codemirror_mode": {
    "name": "ipython",
    "version": 3
   },
   "file_extension": ".py",
   "mimetype": "text/x-python",
   "name": "python",
   "nbconvert_exporter": "python",
   "pygments_lexer": "ipython3",
   "version": "3.9.18"
  }
 },
 "nbformat": 4,
 "nbformat_minor": 2
}
